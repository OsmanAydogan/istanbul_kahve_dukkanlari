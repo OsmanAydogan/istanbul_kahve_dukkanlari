{
 "cells": [
  {
   "cell_type": "code",
   "execution_count": 12,
   "id": "1c82a3cf-2ada-419e-b162-59d97357da06",
   "metadata": {},
   "outputs": [],
   "source": [
    "import pandas as pd\n",
    "pd.set_option('display.max_colwidth', None)"
   ]
  },
  {
   "cell_type": "code",
   "execution_count": 14,
   "id": "65fac6bf-9156-4142-a776-e8363ec54d6d",
   "metadata": {},
   "outputs": [],
   "source": [
    "df = pd.read_excel(r\"C:\\Users\\KHARENIUM\\Desktop\\adresler_guncel.xlsx\") # replace with your own file path"
   ]
  },
  {
   "cell_type": "code",
   "execution_count": 16,
   "id": "8149e606-eb61-47f7-91f2-0309f48d775a",
   "metadata": {},
   "outputs": [
    {
     "data": {
      "text/html": [
       "<div>\n",
       "<style scoped>\n",
       "    .dataframe tbody tr th:only-of-type {\n",
       "        vertical-align: middle;\n",
       "    }\n",
       "\n",
       "    .dataframe tbody tr th {\n",
       "        vertical-align: top;\n",
       "    }\n",
       "\n",
       "    .dataframe thead th {\n",
       "        text-align: right;\n",
       "    }\n",
       "</style>\n",
       "<table border=\"1\" class=\"dataframe\">\n",
       "  <thead>\n",
       "    <tr style=\"text-align: right;\">\n",
       "      <th></th>\n",
       "      <th>Kütüphane Adı</th>\n",
       "      <th>İlçe Adı</th>\n",
       "      <th>Açılış Yılı</th>\n",
       "      <th>Adres</th>\n",
       "      <th>Telefon</th>\n",
       "      <th>Çalışma Saatleri</th>\n",
       "      <th>Çalışma Günleri</th>\n",
       "      <th>Enlem</th>\n",
       "      <th>Boylam</th>\n",
       "    </tr>\n",
       "  </thead>\n",
       "  <tbody>\n",
       "    <tr>\n",
       "      <th>0</th>\n",
       "      <td>Atatürk Kitaplığı (Merkez Kütüphane)</td>\n",
       "      <td>Beyoğlu</td>\n",
       "      <td>1981</td>\n",
       "      <td>Miralay Şefik Bey Sok. No: 6 Taksim, Beyoğlu - İstanbul</td>\n",
       "      <td>0 (212) 249 95 65\\n0 (212) 249 09 45</td>\n",
       "      <td>09:00-22:00</td>\n",
       "      <td>Hergün</td>\n",
       "      <td>41.038842</td>\n",
       "      <td>28.988988</td>\n",
       "    </tr>\n",
       "    <tr>\n",
       "      <th>1</th>\n",
       "      <td>Kadın Eserleri Kütüphanesi</td>\n",
       "      <td>Fatih</td>\n",
       "      <td>1990</td>\n",
       "      <td>Fener Mah. Mürselpaşa Cad. No: 8 Haliç - Fatih - İstanbul</td>\n",
       "      <td>0 (212) 534 95 50</td>\n",
       "      <td>09:00-17:00</td>\n",
       "      <td>Pazartesi-Cuma</td>\n",
       "      <td>41.030775</td>\n",
       "      <td>28.950385</td>\n",
       "    </tr>\n",
       "    <tr>\n",
       "      <th>2</th>\n",
       "      <td>Barış Manço Kütüphanesi</td>\n",
       "      <td>Esenler</td>\n",
       "      <td>1999</td>\n",
       "      <td>Birlik Mah. 857. Sok. No: 2 Atışalanı Köyiçi Esenler - İstanbul</td>\n",
       "      <td>0 (212) 430 30 23 \\n0 (212) 430 42 03</td>\n",
       "      <td>09:00-17:00</td>\n",
       "      <td>Pazartesi-Cumartrsi</td>\n",
       "      <td>41.053897</td>\n",
       "      <td>28.873117</td>\n",
       "    </tr>\n",
       "    <tr>\n",
       "      <th>3</th>\n",
       "      <td>Eyüp Sultan Kütüphanesi</td>\n",
       "      <td>Eyüpsultan</td>\n",
       "      <td>1999</td>\n",
       "      <td>Merkez Mah. Kızıl Mescit Sok. No: 14 Eyüp - İstanbul</td>\n",
       "      <td>0 (212) 417 33 96\\nDahili:663808</td>\n",
       "      <td>09:00-17:00</td>\n",
       "      <td>Pazartesi-Cuma</td>\n",
       "      <td>41.046762</td>\n",
       "      <td>28.936101</td>\n",
       "    </tr>\n",
       "    <tr>\n",
       "      <th>4</th>\n",
       "      <td>Ahmet Süheyl Ünver Kütüphanesi</td>\n",
       "      <td>Ümraniye</td>\n",
       "      <td>2002</td>\n",
       "      <td>Alemdağ Cad. Haldun Alagaş Spor Kompleksi, Ümraniye - İstanbul</td>\n",
       "      <td>0 (216) 634 44 22</td>\n",
       "      <td>09:00-21:00</td>\n",
       "      <td>Hergün</td>\n",
       "      <td>41.024960</td>\n",
       "      <td>29.104736</td>\n",
       "    </tr>\n",
       "  </tbody>\n",
       "</table>\n",
       "</div>"
      ],
      "text/plain": [
       "                          Kütüphane Adı    İlçe Adı  Açılış Yılı  \\\n",
       "0  Atatürk Kitaplığı (Merkez Kütüphane)     Beyoğlu         1981   \n",
       "1            Kadın Eserleri Kütüphanesi       Fatih         1990   \n",
       "2               Barış Manço Kütüphanesi     Esenler         1999   \n",
       "3               Eyüp Sultan Kütüphanesi  Eyüpsultan         1999   \n",
       "4        Ahmet Süheyl Ünver Kütüphanesi    Ümraniye         2002   \n",
       "\n",
       "                                                             Adres  \\\n",
       "0          Miralay Şefik Bey Sok. No: 6 Taksim, Beyoğlu - İstanbul   \n",
       "1        Fener Mah. Mürselpaşa Cad. No: 8 Haliç - Fatih - İstanbul   \n",
       "2  Birlik Mah. 857. Sok. No: 2 Atışalanı Köyiçi Esenler - İstanbul   \n",
       "3             Merkez Mah. Kızıl Mescit Sok. No: 14 Eyüp - İstanbul   \n",
       "4   Alemdağ Cad. Haldun Alagaş Spor Kompleksi, Ümraniye - İstanbul   \n",
       "\n",
       "                                 Telefon Çalışma Saatleri  \\\n",
       "0   0 (212) 249 95 65\\n0 (212) 249 09 45      09:00-22:00   \n",
       "1                      0 (212) 534 95 50      09:00-17:00   \n",
       "2  0 (212) 430 30 23 \\n0 (212) 430 42 03      09:00-17:00   \n",
       "3       0 (212) 417 33 96\\nDahili:663808      09:00-17:00   \n",
       "4                      0 (216) 634 44 22      09:00-21:00   \n",
       "\n",
       "       Çalışma Günleri      Enlem     Boylam  \n",
       "0               Hergün  41.038842  28.988988  \n",
       "1       Pazartesi-Cuma  41.030775  28.950385  \n",
       "2  Pazartesi-Cumartrsi  41.053897  28.873117  \n",
       "3       Pazartesi-Cuma  41.046762  28.936101  \n",
       "4               Hergün  41.024960  29.104736  "
      ]
     },
     "execution_count": 16,
     "metadata": {},
     "output_type": "execute_result"
    }
   ],
   "source": [
    "df.head()"
   ]
  },
  {
   "cell_type": "code",
   "execution_count": 18,
   "id": "a042e56f-787e-4343-90cb-a4df5ca53c16",
   "metadata": {},
   "outputs": [
    {
     "data": {
      "text/html": [
       "<div>\n",
       "<style scoped>\n",
       "    .dataframe tbody tr th:only-of-type {\n",
       "        vertical-align: middle;\n",
       "    }\n",
       "\n",
       "    .dataframe tbody tr th {\n",
       "        vertical-align: top;\n",
       "    }\n",
       "\n",
       "    .dataframe thead th {\n",
       "        text-align: right;\n",
       "    }\n",
       "</style>\n",
       "<table border=\"1\" class=\"dataframe\">\n",
       "  <thead>\n",
       "    <tr style=\"text-align: right;\">\n",
       "      <th></th>\n",
       "      <th>Kütüphane Adı</th>\n",
       "      <th>Enlem</th>\n",
       "      <th>Boylam</th>\n",
       "    </tr>\n",
       "  </thead>\n",
       "  <tbody>\n",
       "    <tr>\n",
       "      <th>0</th>\n",
       "      <td>Atatürk Kitaplığı (Merkez Kütüphane)</td>\n",
       "      <td>41.038842</td>\n",
       "      <td>28.988988</td>\n",
       "    </tr>\n",
       "    <tr>\n",
       "      <th>1</th>\n",
       "      <td>Kadın Eserleri Kütüphanesi</td>\n",
       "      <td>41.030775</td>\n",
       "      <td>28.950385</td>\n",
       "    </tr>\n",
       "    <tr>\n",
       "      <th>2</th>\n",
       "      <td>Barış Manço Kütüphanesi</td>\n",
       "      <td>41.053897</td>\n",
       "      <td>28.873117</td>\n",
       "    </tr>\n",
       "    <tr>\n",
       "      <th>3</th>\n",
       "      <td>Eyüp Sultan Kütüphanesi</td>\n",
       "      <td>41.046762</td>\n",
       "      <td>28.936101</td>\n",
       "    </tr>\n",
       "    <tr>\n",
       "      <th>4</th>\n",
       "      <td>Ahmet Süheyl Ünver Kütüphanesi</td>\n",
       "      <td>41.024960</td>\n",
       "      <td>29.104736</td>\n",
       "    </tr>\n",
       "  </tbody>\n",
       "</table>\n",
       "</div>"
      ],
      "text/plain": [
       "                          Kütüphane Adı      Enlem     Boylam\n",
       "0  Atatürk Kitaplığı (Merkez Kütüphane)  41.038842  28.988988\n",
       "1            Kadın Eserleri Kütüphanesi  41.030775  28.950385\n",
       "2               Barış Manço Kütüphanesi  41.053897  28.873117\n",
       "3               Eyüp Sultan Kütüphanesi  41.046762  28.936101\n",
       "4        Ahmet Süheyl Ünver Kütüphanesi  41.024960  29.104736"
      ]
     },
     "execution_count": 18,
     "metadata": {},
     "output_type": "execute_result"
    }
   ],
   "source": [
    "df = df[[\"Kütüphane Adı\",\"Enlem\",\"Boylam\"]]\n",
    "df.head()"
   ]
  },
  {
   "cell_type": "code",
   "execution_count": 20,
   "id": "9649acbd-d306-4a7f-8b62-5ac2fb1e250e",
   "metadata": {},
   "outputs": [
    {
     "name": "stdout",
     "output_type": "stream",
     "text": [
      "Excel dosyası JSON formatına dönüştürüldü ve adreslerr.json olarak kaydedildi.\n"
     ]
    }
   ],
   "source": [
    "import pandas as pd\n",
    "\n",
    "output_file = \"adreslerr.json\" \n",
    "\n",
    "\n",
    "df.to_json(output_file, orient='records', force_ascii=False, indent=4)\n",
    "\n",
    "print(f\"Excel dosyası JSON formatına dönüştürüldü ve {output_file} olarak kaydedildi.\")\n"
   ]
  },
  {
   "cell_type": "code",
   "execution_count": null,
   "id": "60c81a44-07dc-4f53-ba16-7eb1ea92e181",
   "metadata": {},
   "outputs": [],
   "source": []
  }
 ],
 "metadata": {
  "kernelspec": {
   "display_name": "Python 3 (ipykernel)",
   "language": "python",
   "name": "python3"
  },
  "language_info": {
   "codemirror_mode": {
    "name": "ipython",
    "version": 3
   },
   "file_extension": ".py",
   "mimetype": "text/x-python",
   "name": "python",
   "nbconvert_exporter": "python",
   "pygments_lexer": "ipython3",
   "version": "3.12.4"
  }
 },
 "nbformat": 4,
 "nbformat_minor": 5
}
